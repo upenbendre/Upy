{
 "cells": [
  {
   "cell_type": "code",
   "execution_count": 19,
   "metadata": {
    "collapsed": true
   },
   "outputs": [],
   "source": [
    "import numpy as np\n",
    "from pandas import Series, DataFrame\n",
    "import pandas as pd"
   ]
  },
  {
   "cell_type": "code",
   "execution_count": 4,
   "metadata": {
    "collapsed": false
   },
   "outputs": [
    {
     "data": {
      "text/plain": [
       "array([[  1.,   2.,  nan],\n",
       "       [ nan,   3.,   4.]])"
      ]
     },
     "execution_count": 4,
     "metadata": {},
     "output_type": "execute_result"
    }
   ],
   "source": [
    "arr = np.array([[1,2,np.nan],[np.nan,3,4]])\n",
    "arr"
   ]
  },
  {
   "cell_type": "code",
   "execution_count": 6,
   "metadata": {
    "collapsed": false
   },
   "outputs": [
    {
     "data": {
      "text/html": [
       "<div>\n",
       "<table border=\"1\" class=\"dataframe\">\n",
       "  <thead>\n",
       "    <tr style=\"text-align: right;\">\n",
       "      <th></th>\n",
       "      <th>One</th>\n",
       "      <th>Two</th>\n",
       "      <th>Three</th>\n",
       "    </tr>\n",
       "  </thead>\n",
       "  <tbody>\n",
       "    <tr>\n",
       "      <th>A</th>\n",
       "      <td>1</td>\n",
       "      <td>2</td>\n",
       "      <td>NaN</td>\n",
       "    </tr>\n",
       "    <tr>\n",
       "      <th>B</th>\n",
       "      <td>NaN</td>\n",
       "      <td>3</td>\n",
       "      <td>4</td>\n",
       "    </tr>\n",
       "  </tbody>\n",
       "</table>\n",
       "</div>"
      ],
      "text/plain": [
       "   One  Two  Three\n",
       "A    1    2    NaN\n",
       "B  NaN    3      4"
      ]
     },
     "execution_count": 6,
     "metadata": {},
     "output_type": "execute_result"
    }
   ],
   "source": [
    "dframe1 = DataFrame(arr,index=['A','B'],columns=['One','Two','Three'])\n",
    "dframe1"
   ]
  },
  {
   "cell_type": "code",
   "execution_count": 8,
   "metadata": {
    "collapsed": false
   },
   "outputs": [
    {
     "data": {
      "text/plain": [
       "<bound method DataFrame.sum of    One  Two  Three\n",
       "A    1    2    NaN\n",
       "B  NaN    3      4>"
      ]
     },
     "execution_count": 8,
     "metadata": {},
     "output_type": "execute_result"
    }
   ],
   "source": [
    "dframe1.sum"
   ]
  },
  {
   "cell_type": "code",
   "execution_count": 10,
   "metadata": {
    "collapsed": false
   },
   "outputs": [
    {
     "data": {
      "text/plain": [
       "One      1\n",
       "Two      5\n",
       "Three    4\n",
       "dtype: float64"
      ]
     },
     "execution_count": 10,
     "metadata": {},
     "output_type": "execute_result"
    }
   ],
   "source": [
    "dframe1.sum() #notice the difference between using sum and sum()"
   ]
  },
  {
   "cell_type": "code",
   "execution_count": 12,
   "metadata": {
    "collapsed": false
   },
   "outputs": [
    {
     "data": {
      "text/plain": [
       "A    3\n",
       "B    7\n",
       "dtype: float64"
      ]
     },
     "execution_count": 12,
     "metadata": {},
     "output_type": "execute_result"
    }
   ],
   "source": [
    "dframe1.sum(axis=1)"
   ]
  },
  {
   "cell_type": "code",
   "execution_count": 14,
   "metadata": {
    "collapsed": false
   },
   "outputs": [
    {
     "data": {
      "text/plain": [
       "One      1\n",
       "Two      2\n",
       "Three    4\n",
       "dtype: float64"
      ]
     },
     "execution_count": 14,
     "metadata": {},
     "output_type": "execute_result"
    }
   ],
   "source": [
    "dframe1.min() #finds minimum value in each column"
   ]
  },
  {
   "cell_type": "code",
   "execution_count": 15,
   "metadata": {
    "collapsed": false
   },
   "outputs": [
    {
     "data": {
      "text/plain": [
       "One      A\n",
       "Two      A\n",
       "Three    B\n",
       "dtype: object"
      ]
     },
     "execution_count": 15,
     "metadata": {},
     "output_type": "execute_result"
    }
   ],
   "source": [
    "dframe1.idxmin() #index of minimum values in each column"
   ]
  },
  {
   "cell_type": "code",
   "execution_count": 16,
   "metadata": {
    "collapsed": false
   },
   "outputs": [
    {
     "data": {
      "text/plain": [
       "One      A\n",
       "Two      B\n",
       "Three    B\n",
       "dtype: object"
      ]
     },
     "execution_count": 16,
     "metadata": {},
     "output_type": "execute_result"
    }
   ],
   "source": [
    "dframe1.idxmax()"
   ]
  },
  {
   "cell_type": "code",
   "execution_count": 17,
   "metadata": {
    "collapsed": false
   },
   "outputs": [
    {
     "data": {
      "text/html": [
       "<div>\n",
       "<table border=\"1\" class=\"dataframe\">\n",
       "  <thead>\n",
       "    <tr style=\"text-align: right;\">\n",
       "      <th></th>\n",
       "      <th>One</th>\n",
       "      <th>Two</th>\n",
       "      <th>Three</th>\n",
       "    </tr>\n",
       "  </thead>\n",
       "  <tbody>\n",
       "    <tr>\n",
       "      <th>A</th>\n",
       "      <td>1</td>\n",
       "      <td>2</td>\n",
       "      <td>NaN</td>\n",
       "    </tr>\n",
       "    <tr>\n",
       "      <th>B</th>\n",
       "      <td>NaN</td>\n",
       "      <td>3</td>\n",
       "      <td>4</td>\n",
       "    </tr>\n",
       "  </tbody>\n",
       "</table>\n",
       "</div>"
      ],
      "text/plain": [
       "   One  Two  Three\n",
       "A    1    2    NaN\n",
       "B  NaN    3      4"
      ]
     },
     "execution_count": 17,
     "metadata": {},
     "output_type": "execute_result"
    }
   ],
   "source": [
    "dframe1"
   ]
  },
  {
   "cell_type": "code",
   "execution_count": 18,
   "metadata": {
    "collapsed": false
   },
   "outputs": [
    {
     "data": {
      "text/html": [
       "<div>\n",
       "<table border=\"1\" class=\"dataframe\">\n",
       "  <thead>\n",
       "    <tr style=\"text-align: right;\">\n",
       "      <th></th>\n",
       "      <th>One</th>\n",
       "      <th>Two</th>\n",
       "      <th>Three</th>\n",
       "    </tr>\n",
       "  </thead>\n",
       "  <tbody>\n",
       "    <tr>\n",
       "      <th>A</th>\n",
       "      <td>1</td>\n",
       "      <td>2</td>\n",
       "      <td>NaN</td>\n",
       "    </tr>\n",
       "    <tr>\n",
       "      <th>B</th>\n",
       "      <td>NaN</td>\n",
       "      <td>5</td>\n",
       "      <td>4</td>\n",
       "    </tr>\n",
       "  </tbody>\n",
       "</table>\n",
       "</div>"
      ],
      "text/plain": [
       "   One  Two  Three\n",
       "A    1    2    NaN\n",
       "B  NaN    5      4"
      ]
     },
     "execution_count": 18,
     "metadata": {},
     "output_type": "execute_result"
    }
   ],
   "source": [
    "dframe1.cumsum() #accumulation sum"
   ]
  },
  {
   "cell_type": "code",
   "execution_count": 20,
   "metadata": {
    "collapsed": false
   },
   "outputs": [
    {
     "data": {
      "text/html": [
       "<div>\n",
       "<table border=\"1\" class=\"dataframe\">\n",
       "  <thead>\n",
       "    <tr style=\"text-align: right;\">\n",
       "      <th></th>\n",
       "      <th>One</th>\n",
       "      <th>Two</th>\n",
       "      <th>Three</th>\n",
       "    </tr>\n",
       "  </thead>\n",
       "  <tbody>\n",
       "    <tr>\n",
       "      <th>count</th>\n",
       "      <td>1</td>\n",
       "      <td>2.000000</td>\n",
       "      <td>1</td>\n",
       "    </tr>\n",
       "    <tr>\n",
       "      <th>mean</th>\n",
       "      <td>1</td>\n",
       "      <td>2.500000</td>\n",
       "      <td>4</td>\n",
       "    </tr>\n",
       "    <tr>\n",
       "      <th>std</th>\n",
       "      <td>NaN</td>\n",
       "      <td>0.707107</td>\n",
       "      <td>NaN</td>\n",
       "    </tr>\n",
       "    <tr>\n",
       "      <th>min</th>\n",
       "      <td>1</td>\n",
       "      <td>2.000000</td>\n",
       "      <td>4</td>\n",
       "    </tr>\n",
       "    <tr>\n",
       "      <th>25%</th>\n",
       "      <td>1</td>\n",
       "      <td>2.250000</td>\n",
       "      <td>4</td>\n",
       "    </tr>\n",
       "    <tr>\n",
       "      <th>50%</th>\n",
       "      <td>1</td>\n",
       "      <td>2.500000</td>\n",
       "      <td>4</td>\n",
       "    </tr>\n",
       "    <tr>\n",
       "      <th>75%</th>\n",
       "      <td>1</td>\n",
       "      <td>2.750000</td>\n",
       "      <td>4</td>\n",
       "    </tr>\n",
       "    <tr>\n",
       "      <th>max</th>\n",
       "      <td>1</td>\n",
       "      <td>3.000000</td>\n",
       "      <td>4</td>\n",
       "    </tr>\n",
       "  </tbody>\n",
       "</table>\n",
       "</div>"
      ],
      "text/plain": [
       "       One       Two  Three\n",
       "count    1  2.000000      1\n",
       "mean     1  2.500000      4\n",
       "std    NaN  0.707107    NaN\n",
       "min      1  2.000000      4\n",
       "25%      1  2.250000      4\n",
       "50%      1  2.500000      4\n",
       "75%      1  2.750000      4\n",
       "max      1  3.000000      4"
      ]
     },
     "execution_count": 20,
     "metadata": {},
     "output_type": "execute_result"
    }
   ],
   "source": [
    "dframe1.describe() #summary statistics for dataframe provided by describe() method"
   ]
  },
  {
   "cell_type": "code",
   "execution_count": 21,
   "metadata": {
    "collapsed": true
   },
   "outputs": [],
   "source": [
    "\"\"\"Get YouTubeVideos\"\"\"\n",
    "from IPython.display import YouTubeVideo\n"
   ]
  },
  {
   "cell_type": "code",
   "execution_count": 25,
   "metadata": {
    "collapsed": false
   },
   "outputs": [
    {
     "data": {
      "image/jpeg": "[encoded data removed]",
      "text/html": [
       "\n",
       "        <iframe\n",
       "            width=\"400\"\n",
       "            height=\"300\"\n",
       "            src=\"https://www.youtube.com/embed/xGbpuFNR1ME\"\n",
       "            frameborder=\"0\"\n",
       "            allowfullscreen\n",
       "        ></iframe>\n",
       "        "
      ],
      "text/plain": [
       "<IPython.lib.display.YouTubeVideo at 0x7f7fb36eebd0>"
      ]
     },
     "execution_count": 25,
     "metadata": {},
     "output_type": "execute_result"
    }
   ],
   "source": [
    "YouTubeVideo('xGbpuFNR1ME')"
   ]
  },
  {
   "cell_type": "code",
   "execution_count": 26,
   "metadata": {
    "collapsed": false
   },
   "outputs": [
    {
     "data": {
      "text/plain": [
       "'Covariance: Covariance is a Bivariate relationship i.e. between 2 variables.\\n'"
      ]
     },
     "execution_count": 26,
     "metadata": {},
     "output_type": "execute_result"
    }
   ],
   "source": [
    "\"\"\"Covariance: Covariance is a Bivariate relationship i.e. between 2 variables.\n",
    "\"\"\""
   ]
  },
  {
   "cell_type": "code",
   "execution_count": 1,
   "metadata": {
    "collapsed": false
   },
   "outputs": [
    {
     "data": {
      "image/jpeg": "[encoded data removed]",
      "text/html": [
       "\n",
       "        <iframe\n",
       "            width=\"400\"\n",
       "            height=\"300\"\n",
       "            src=\"https://www.youtube.com/embed/4EXNedimDMs\"\n",
       "            frameborder=\"0\"\n",
       "            allowfullscreen\n",
       "        ></iframe>\n",
       "        "
      ],
      "text/plain": [
       "<IPython.lib.display.YouTubeVideo at 0x7f0bf82429d0>"
      ]
     },
     "execution_count": 1,
     "metadata": {},
     "output_type": "execute_result"
    }
   ],
   "source": [
    "from IPython.display import YouTubeVideo\n",
    "YouTubeVideo('4EXNedimDMs')"
   ]
  },
  {
   "cell_type": "code",
   "execution_count": 2,
   "metadata": {
    "collapsed": false
   },
   "outputs": [],
   "source": [
    "#Get some data from web\n",
    "import pandas.io.data as pdweb\n",
    "#import pandas-datareader.io.data as pdweb\n",
    "import datetime #pandas library for date input\n",
    "\n",
    "prices = pdweb.get_data_yahoo(['CVX','XOM','BP'],\n",
    "                              start=datetime.datetime(2010,1,1),end=datetime.datetime(2011,1,1))['Adj Close']"
   ]
  },
  {
   "cell_type": "code",
   "execution_count": 3,
   "metadata": {
    "collapsed": false
   },
   "outputs": [
    {
     "data": {
      "text/html": [
       "<div>\n",
       "<table border=\"1\" class=\"dataframe\">\n",
       "  <thead>\n",
       "    <tr style=\"text-align: right;\">\n",
       "      <th></th>\n",
       "      <th>BP</th>\n",
       "      <th>CVX</th>\n",
       "      <th>XOM</th>\n",
       "    </tr>\n",
       "    <tr>\n",
       "      <th>Date</th>\n",
       "      <th></th>\n",
       "      <th></th>\n",
       "      <th></th>\n",
       "    </tr>\n",
       "  </thead>\n",
       "  <tbody>\n",
       "    <tr>\n",
       "      <th>2010-01-04</th>\n",
       "      <td>44.624578</td>\n",
       "      <td>63.116576</td>\n",
       "      <td>58.175683</td>\n",
       "    </tr>\n",
       "    <tr>\n",
       "      <th>2010-01-05</th>\n",
       "      <td>44.941437</td>\n",
       "      <td>63.563650</td>\n",
       "      <td>58.402830</td>\n",
       "    </tr>\n",
       "    <tr>\n",
       "      <th>2010-01-06</th>\n",
       "      <td>45.175312</td>\n",
       "      <td>63.571629</td>\n",
       "      <td>58.907607</td>\n",
       "    </tr>\n",
       "    <tr>\n",
       "      <th>2010-01-07</th>\n",
       "      <td>45.160223</td>\n",
       "      <td>63.332131</td>\n",
       "      <td>58.722527</td>\n",
       "    </tr>\n",
       "    <tr>\n",
       "      <th>2010-01-08</th>\n",
       "      <td>45.265843</td>\n",
       "      <td>63.443898</td>\n",
       "      <td>58.486958</td>\n",
       "    </tr>\n",
       "  </tbody>\n",
       "</table>\n",
       "</div>"
      ],
      "text/plain": [
       "                   BP        CVX        XOM\n",
       "Date                                       \n",
       "2010-01-04  44.624578  63.116576  58.175683\n",
       "2010-01-05  44.941437  63.563650  58.402830\n",
       "2010-01-06  45.175312  63.571629  58.907607\n",
       "2010-01-07  45.160223  63.332131  58.722527\n",
       "2010-01-08  45.265843  63.443898  58.486958"
      ]
     },
     "execution_count": 3,
     "metadata": {},
     "output_type": "execute_result"
    }
   ],
   "source": [
    "\n",
    "\"\"\"Here we get the prices method which will generate the data from yahoo using \n",
    "the get_data_yahoo function from pandas.io.data module\"\"\"\n",
    "prices.head() # this create a dataframe object."
   ]
  },
  {
   "cell_type": "code",
   "execution_count": 11,
   "metadata": {
    "collapsed": false
   },
   "outputs": [
    {
     "name": "stdout",
     "output_type": "stream",
     "text": [
      "                  BP       CVX       XOM\n",
      "Date                                    \n",
      "2010-01-04   3956100  10173800  27809100\n",
      "2010-01-05   4109600  10593700  30174700\n",
      "2010-01-06   6227900  11014600  35044700\n",
      "2010-01-07   4431300   9626900  27192100\n",
      "2010-01-08   3786100   5624300  24891800\n",
      "2010-01-11   8227200  11916800  30685000\n",
      "2010-01-12   6126600  12175200  31496700\n",
      "2010-01-13   5686600  10842200  24884400\n",
      "2010-01-14   3330700   6721000  18630800\n",
      "2010-01-15   3596700  13482300  29411900\n",
      "2010-01-19   4914400   8722200  26081900\n",
      "2010-01-20   5410900   8703800  34629500\n",
      "2010-01-21   7184400  12573200  39114000\n",
      "2010-01-22   7297200  13825000  39085500\n",
      "2010-01-25   4039100   9129700  29305100\n",
      "2010-01-26   5684700  10558200  34083300\n",
      "2010-01-27   6025600  13373200  35723500\n",
      "2010-01-28   5003700  12828800  37349800\n",
      "2010-01-29   7643200  15265600  40880500\n",
      "2010-02-01   6031200  11828500  37703000\n",
      "2010-02-02  18574000  12947600  34057900\n",
      "2010-02-03   8410700  14540300  24024700\n",
      "2010-02-04   8364700  15248400  33858200\n",
      "2010-02-05  11065800  17307000  42297500\n",
      "2010-02-08   7808900  11595600  30519400\n",
      "2010-02-09   8017100  13051900  36243300\n",
      "2010-02-10   5598300  11618700  21699100\n",
      "2010-02-11   6878000  11273800  23555200\n",
      "2010-02-12   6761900  13809100  30636200\n",
      "2010-02-16  11509700  14230800  30514900\n",
      "...              ...       ...       ...\n",
      "2010-11-18   5631700   7590000  18322900\n",
      "2010-11-19   5458700   8130900  24116400\n",
      "2010-11-22   6552000   6791900  18907900\n",
      "2010-11-23   9536500   9507700  22672000\n",
      "2010-11-24   5956800   8042600  19335600\n",
      "2010-11-26   3647900   2789700   7324600\n",
      "2010-11-29  11978900   9070100  20021200\n",
      "2010-11-30  10704400  10366000  27524300\n",
      "2010-12-01   8713500  10629600  26590200\n",
      "2010-12-02  10237000  10799500  21274800\n",
      "2010-12-03   8019900   6724000  19457100\n",
      "2010-12-06   9966600   5184200  15985400\n",
      "2010-12-07   8457600  12560600  23694600\n",
      "2010-12-08   6564500   6918300  22654900\n",
      "2010-12-09   7972700   8076700  17971600\n",
      "2010-12-10   6616600   7406700  17699500\n",
      "2010-12-13   6408400   9910500  21170500\n",
      "2010-12-14  17293000   7331300  20625900\n",
      "2010-12-15  16959000   7608700  20979000\n",
      "2010-12-16  10269000   7796700  18513900\n",
      "2010-12-17   6515200  10832800  36761300\n",
      "2010-12-20   7615600   8029800  16045800\n",
      "2010-12-21   4820000   5962500  21772800\n",
      "2010-12-22   4197100   4262400  14606600\n",
      "2010-12-23   5375900   5095600  11390900\n",
      "2010-12-27   2797000   3138200   9757200\n",
      "2010-12-28   3252100   5058100  14423400\n",
      "2010-12-29   5147400   5301000  11797700\n",
      "2010-12-30   5073000   4156500  10790400\n",
      "2010-12-31   4284000   5152900  15273700\n",
      "\n",
      "[252 rows x 3 columns]\n"
     ]
    }
   ],
   "source": [
    "volume = pdweb.get_data_yahoo(['CVX','XOM','BP'],\n",
    "                              start=datetime.datetime(2010,1,1),end=datetime.datetime(2011,1,1))['Volume']\n",
    "print(volume)"
   ]
  },
  {
   "cell_type": "code",
   "execution_count": 16,
   "metadata": {
    "collapsed": false
   },
   "outputs": [
    {
     "name": "stdout",
     "output_type": "stream",
     "text": [
      "                  BP       CVX       XOM\n",
      "Date                                    \n",
      "2010-01-04       NaN       NaN       NaN\n",
      "2010-01-05  0.007101  0.007083  0.003905\n",
      "2010-01-06  0.005204  0.000126  0.008643\n",
      "2010-01-07 -0.000334 -0.003767 -0.003142\n",
      "2010-01-08  0.002339  0.001765 -0.004012\n",
      "2010-01-11  0.031500  0.017742  0.011220\n",
      "2010-01-12 -0.006301 -0.005811 -0.004979\n",
      "2010-01-13  0.004878 -0.007586 -0.004003\n",
      "2010-01-14 -0.001133 -0.003133  0.000144\n",
      "2010-01-15 -0.001458 -0.004023 -0.008180\n",
      "2010-01-19  0.011032  0.005680  0.002315\n",
      "2010-01-20 -0.020218 -0.019202 -0.017901\n",
      "2010-01-21 -0.024402 -0.024440 -0.019550\n",
      "2010-01-22 -0.028538 -0.021642 -0.008995\n",
      "2010-01-25  0.011751 -0.000536 -0.003782\n",
      "2010-01-26 -0.001025 -0.005366  0.001063\n",
      "2010-01-27 -0.007352 -0.006069 -0.005765\n",
      "2010-01-28 -0.012573 -0.006242 -0.008850\n",
      "2010-01-29 -0.021106 -0.015292 -0.008159\n",
      "2010-02-01  0.019779  0.020244  0.027161\n",
      "2010-02-02 -0.030928  0.011824  0.011786\n",
      "2010-02-03 -0.005229 -0.016655 -0.005376\n",
      "2010-02-04 -0.030633 -0.025133 -0.028228\n",
      "2010-02-05 -0.005610 -0.002662  0.001236\n",
      "2010-02-08 -0.014103 -0.014751 -0.000466\n",
      "2010-02-09  0.022506  0.016826  0.013209\n",
      "2010-02-10  0.000746 -0.007853 -0.005368\n",
      "2010-02-11  0.021435  0.013852  0.006014\n",
      "2010-02-12 -0.002372 -0.000563 -0.006744\n",
      "2010-02-16  0.023413  0.027883  0.022839\n",
      "...              ...       ...       ...\n",
      "2010-11-18  0.014663  0.016493  0.018838\n",
      "2010-11-19 -0.004264  0.001432  0.003271\n",
      "2010-11-22 -0.009279 -0.005838 -0.004962\n",
      "2010-11-23 -0.018012 -0.020371 -0.017239\n",
      "2010-11-24  0.014184  0.014434  0.013047\n",
      "2010-11-26 -0.013021 -0.010611 -0.009302\n",
      "2010-11-29 -0.008307 -0.004388  0.003178\n",
      "2010-11-30 -0.014536 -0.008814  0.001584\n",
      "2010-12-01  0.015500  0.021366  0.025446\n",
      "2010-12-02  0.017233  0.021765  0.002103\n",
      "2010-12-03  0.004114  0.004615 -0.004057\n",
      "2010-12-06  0.031815  0.000707  0.001686\n",
      "2010-12-07  0.001869  0.015892  0.002104\n",
      "2010-12-08  0.008860 -0.001854  0.005458\n",
      "2010-12-09 -0.011093  0.005921  0.002088\n",
      "2010-12-10  0.010516  0.004385  0.002500\n",
      "2010-12-13  0.004394  0.015397  0.002494\n",
      "2010-12-14  0.023256  0.000113 -0.002488\n",
      "2010-12-15 -0.013051 -0.004186 -0.004572\n",
      "2010-12-16 -0.002508  0.011930  0.005150\n",
      "2010-12-17 -0.011429 -0.006400 -0.000692\n",
      "2010-12-20  0.009942  0.003503  0.000693\n",
      "2010-12-21 -0.003205  0.004842  0.006923\n",
      "2010-12-22  0.001608  0.007733  0.001100\n",
      "2010-12-23  0.008943  0.008452  0.005494\n",
      "2010-12-27 -0.000682 -0.006176 -0.002596\n",
      "2010-12-28  0.003184  0.011873  0.005616\n",
      "2010-12-29 -0.003627  0.001974 -0.000681\n",
      "2010-12-30 -0.001365  0.002517 -0.000136\n",
      "2010-12-31  0.006380 -0.003821 -0.003272\n",
      "\n",
      "[252 rows x 3 columns]\n"
     ]
    }
   ],
   "source": [
    "rets = prices.pct_change() #Used pct_change function to get percentage change on the prices\n",
    "print(rets)"
   ]
  },
  {
   "cell_type": "code",
   "execution_count": 10,
   "metadata": {
    "collapsed": false
   },
   "outputs": [
    {
     "name": "stdout",
     "output_type": "stream",
     "text": [
      "<bound method DataFrame.corr of                   BP       CVX       XOM\n",
      "Date                                    \n",
      "2010-01-04       NaN       NaN       NaN\n",
      "2010-01-05  0.007101  0.007083  0.003905\n",
      "2010-01-06  0.005204  0.000126  0.008643\n",
      "2010-01-07 -0.000334 -0.003767 -0.003142\n",
      "2010-01-08  0.002339  0.001765 -0.004012\n",
      "2010-01-11  0.031500  0.017742  0.011220\n",
      "2010-01-12 -0.006301 -0.005811 -0.004979\n",
      "2010-01-13  0.004878 -0.007586 -0.004003\n",
      "2010-01-14 -0.001133 -0.003133  0.000144\n",
      "2010-01-15 -0.001458 -0.004023 -0.008180\n",
      "2010-01-19  0.011032  0.005680  0.002315\n",
      "2010-01-20 -0.020218 -0.019202 -0.017901\n",
      "2010-01-21 -0.024402 -0.024440 -0.019550\n",
      "2010-01-22 -0.028538 -0.021642 -0.008995\n",
      "2010-01-25  0.011751 -0.000536 -0.003782\n",
      "2010-01-26 -0.001025 -0.005366  0.001063\n",
      "2010-01-27 -0.007352 -0.006069 -0.005765\n",
      "2010-01-28 -0.012573 -0.006242 -0.008850\n",
      "2010-01-29 -0.021106 -0.015292 -0.008159\n",
      "2010-02-01  0.019779  0.020244  0.027161\n",
      "2010-02-02 -0.030928  0.011824  0.011786\n",
      "2010-02-03 -0.005229 -0.016655 -0.005376\n",
      "2010-02-04 -0.030633 -0.025133 -0.028228\n",
      "2010-02-05 -0.005610 -0.002662  0.001236\n",
      "2010-02-08 -0.014103 -0.014751 -0.000466\n",
      "2010-02-09  0.022506  0.016826  0.013209\n",
      "2010-02-10  0.000746 -0.007853 -0.005368\n",
      "2010-02-11  0.021435  0.013852  0.006014\n",
      "2010-02-12 -0.002372 -0.000563 -0.006744\n",
      "2010-02-16  0.023413  0.027883  0.022839\n",
      "...              ...       ...       ...\n",
      "2010-11-18  0.014663  0.016493  0.018838\n",
      "2010-11-19 -0.004264  0.001432  0.003271\n",
      "2010-11-22 -0.009279 -0.005838 -0.004962\n",
      "2010-11-23 -0.018012 -0.020371 -0.017239\n",
      "2010-11-24  0.014184  0.014434  0.013047\n",
      "2010-11-26 -0.013021 -0.010611 -0.009302\n",
      "2010-11-29 -0.008307 -0.004388  0.003178\n",
      "2010-11-30 -0.014536 -0.008814  0.001584\n",
      "2010-12-01  0.015500  0.021366  0.025446\n",
      "2010-12-02  0.017233  0.021765  0.002103\n",
      "2010-12-03  0.004114  0.004615 -0.004057\n",
      "2010-12-06  0.031815  0.000707  0.001686\n",
      "2010-12-07  0.001869  0.015892  0.002104\n",
      "2010-12-08  0.008860 -0.001854  0.005458\n",
      "2010-12-09 -0.011093  0.005921  0.002088\n",
      "2010-12-10  0.010516  0.004385  0.002500\n",
      "2010-12-13  0.004394  0.015397  0.002494\n",
      "2010-12-14  0.023256  0.000113 -0.002488\n",
      "2010-12-15 -0.013051 -0.004186 -0.004572\n",
      "2010-12-16 -0.002508  0.011930  0.005150\n",
      "2010-12-17 -0.011429 -0.006400 -0.000692\n",
      "2010-12-20  0.009942  0.003503  0.000693\n",
      "2010-12-21 -0.003205  0.004842  0.006923\n",
      "2010-12-22  0.001608  0.007733  0.001100\n",
      "2010-12-23  0.008943  0.008452  0.005494\n",
      "2010-12-27 -0.000682 -0.006176 -0.002596\n",
      "2010-12-28  0.003184  0.011873  0.005616\n",
      "2010-12-29 -0.003627  0.001974 -0.000681\n",
      "2010-12-30 -0.001365  0.002517 -0.000136\n",
      "2010-12-31  0.006380 -0.003821 -0.003272\n",
      "\n",
      "[252 rows x 3 columns]>\n"
     ]
    }
   ],
   "source": [
    "corr = rets.corr #Gets you a Correlation of the returns\n",
    "#print(corr)"
   ]
  },
  {
   "cell_type": "code",
   "execution_count": 13,
   "metadata": {
    "collapsed": false
   },
   "outputs": [
    {
     "data": {
      "text/plain": [
       "<matplotlib.axes._subplots.AxesSubplot at 0x7ff0e2cc61d0>"
      ]
     },
     "execution_count": 13,
     "metadata": {},
     "output_type": "execute_result"
    },
    {
     "data": {
      "image/png": "[encoded data removed]",
      "text/plain": [
       "<matplotlib.figure.Figure at 0x7ff0e51fe590>"
      ]
     },
     "metadata": {},
     "output_type": "display_data"
    }
   ],
   "source": [
    "%matplotlib inline\n",
    "prices.plot()"
   ]
  },
  {
   "cell_type": "code",
   "execution_count": 15,
   "metadata": {
    "collapsed": false
   },
   "outputs": [],
   "source": [
    "\"\"\"seaborn had to be installed with the command 'conda install seaborn'\"\"\"\n",
    "import seaborn as sns #seaborn is another plotting library\n",
    "import matplotlib.pyplot as plt"
   ]
  },
  {
   "cell_type": "code",
   "execution_count": 17,
   "metadata": {
    "collapsed": false
   },
   "outputs": [
    {
     "name": "stderr",
     "output_type": "stream",
     "text": [
      "/home/upen/anaconda2/lib/python2.7/site-packages/seaborn/linearmodels.py:1285: UserWarning: The `corrplot` function has been deprecated in favor of `heatmap` and will be removed in a forthcoming release. Please update your code.\n",
      "  warnings.warn((\"The `corrplot` function has been deprecated in favor \"\n",
      "/home/upen/anaconda2/lib/python2.7/site-packages/seaborn/linearmodels.py:1351: UserWarning: The `symmatplot` function has been deprecated in favor of `heatmap` and will be removed in a forthcoming release. Please update your code.\n",
      "  warnings.warn((\"The `symmatplot` function has been deprecated in favor \"\n"
     ]
    },
    {
     "data": {
      "text/plain": [
       "<matplotlib.axes._subplots.AxesSubplot at 0x7ff0d8579e50>"
      ]
     },
     "execution_count": 17,
     "metadata": {},
     "output_type": "execute_result"
    },
    {
     "data": {
      "image/png": "[encoded data removed]",
      "text/plain": [
       "<matplotlib.figure.Figure at 0x7ff0e0269a90>"
      ]
     },
     "metadata": {},
     "output_type": "display_data"
    }
   ],
   "source": [
    "sns.corrplot(rets,annot=False,diag_names=False)"
   ]
  },
  {
   "cell_type": "code",
   "execution_count": 21,
   "metadata": {
    "collapsed": false
   },
   "outputs": [
    {
     "data": {
      "text/plain": [
       "0    w\n",
       "1    w\n",
       "2    x\n",
       "3    y\n",
       "4    z\n",
       "5    w\n",
       "6    x\n",
       "7    y\n",
       "8    x\n",
       "9    a\n",
       "dtype: object"
      ]
     },
     "execution_count": 21,
     "metadata": {},
     "output_type": "execute_result"
    }
   ],
   "source": [
    "ser1 = Series(['w','w','x','y','z','w','x','y','x','a'])\n",
    "ser1"
   ]
  },
  {
   "cell_type": "code",
   "execution_count": 24,
   "metadata": {
    "collapsed": false
   },
   "outputs": [
    {
     "data": {
      "text/plain": [
       "array(['w', 'x', 'y', 'z', 'a'], dtype=object)"
      ]
     },
     "execution_count": 24,
     "metadata": {},
     "output_type": "execute_result"
    }
   ],
   "source": [
    "ser1.unique()"
   ]
  },
  {
   "cell_type": "code",
   "execution_count": 25,
   "metadata": {
    "collapsed": false
   },
   "outputs": [
    {
     "data": {
      "text/plain": [
       "w    3\n",
       "x    3\n",
       "y    2\n",
       "a    1\n",
       "z    1\n",
       "dtype: int64"
      ]
     },
     "execution_count": 25,
     "metadata": {},
     "output_type": "execute_result"
    }
   ],
   "source": [
    "ser1.value_counts()"
   ]
  },
  {
   "cell_type": "code",
   "execution_count": null,
   "metadata": {
    "collapsed": true
   },
   "outputs": [],
   "source": []
  }
 ],
 "metadata": {
  "kernelspec": {
   "display_name": "Python 2",
   "language": "python",
   "name": "python2"
  },
  "language_info": {
   "codemirror_mode": {
    "name": "ipython",
    "version": 2
   },
   "file_extension": ".py",
   "mimetype": "text/x-python",
   "name": "python",
   "nbconvert_exporter": "python",
   "pygments_lexer": "ipython2",
   "version": "2.7.11"
  }
 },
 "nbformat": 4,
 "nbformat_minor": 0
}
