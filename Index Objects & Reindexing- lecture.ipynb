{
 "cells": [
  {
   "cell_type": "code",
   "execution_count": 2,
   "metadata": {
    "collapsed": false
   },
   "outputs": [
    {
     "name": "stdout",
     "output_type": "stream",
     "text": [
      "A    1\n",
      "B    2\n",
      "C    3\n",
      "D    4\n",
      "dtype: int64\n"
     ]
    }
   ],
   "source": [
    "import numpy as np\n",
    "from pandas import Series, DataFrame\n",
    "import pandas as pd\n",
    "\n",
    "my_ser = Series([1,2,3,4],index=['A','B','C','D'])\n",
    "Series\n",
    "print(my_ser)"
   ]
  },
  {
   "cell_type": "code",
   "execution_count": 9,
   "metadata": {
    "collapsed": false
   },
   "outputs": [
    {
     "name": "stdout",
     "output_type": "stream",
     "text": [
      "Index([u'A', u'B', u'C', u'D'], dtype='object')\n"
     ]
    },
    {
     "data": {
      "text/plain": [
       "'C'"
      ]
     },
     "execution_count": 9,
     "metadata": {},
     "output_type": "execute_result"
    }
   ],
   "source": [
    "my_index = my_ser.index\n",
    "print(my_index)\n",
    "my_index[2]\n"
   ]
  },
  {
   "cell_type": "code",
   "execution_count": 8,
   "metadata": {
    "collapsed": false
   },
   "outputs": [
    {
     "data": {
      "text/plain": [
       "Index([u'C', u'D'], dtype='object')"
      ]
     },
     "execution_count": 8,
     "metadata": {},
     "output_type": "execute_result"
    }
   ],
   "source": [
    "my_index[2:]"
   ]
  },
  {
   "cell_type": "code",
   "execution_count": 10,
   "metadata": {
    "collapsed": false
   },
   "outputs": [
    {
     "ename": "TypeError",
     "evalue": "Index does not support mutable operations",
     "output_type": "error",
     "traceback": [
      "\u001b[1;31m---------------------------------------------------------------------------\u001b[0m",
      "\u001b[1;31mTypeError\u001b[0m                                 Traceback (most recent call last)",
      "\u001b[1;32m<ipython-input-10-ba11d625d3b5>\u001b[0m in \u001b[0;36m<module>\u001b[1;34m()\u001b[0m\n\u001b[1;32m----> 1\u001b[1;33m \u001b[0mmy_index\u001b[0m\u001b[1;33m[\u001b[0m\u001b[1;36m0\u001b[0m\u001b[1;33m]\u001b[0m \u001b[1;33m=\u001b[0m \u001b[1;34m'R'\u001b[0m\u001b[1;33m\u001b[0m\u001b[0m\n\u001b[0m",
      "\u001b[1;32m/home/upen/anaconda2/lib/python2.7/site-packages/pandas/core/index.pyc\u001b[0m in \u001b[0;36m__setitem__\u001b[1;34m(self, key, value)\u001b[0m\n\u001b[0;32m   1128\u001b[0m \u001b[1;33m\u001b[0m\u001b[0m\n\u001b[0;32m   1129\u001b[0m     \u001b[1;32mdef\u001b[0m \u001b[0m__setitem__\u001b[0m\u001b[1;33m(\u001b[0m\u001b[0mself\u001b[0m\u001b[1;33m,\u001b[0m \u001b[0mkey\u001b[0m\u001b[1;33m,\u001b[0m \u001b[0mvalue\u001b[0m\u001b[1;33m)\u001b[0m\u001b[1;33m:\u001b[0m\u001b[1;33m\u001b[0m\u001b[0m\n\u001b[1;32m-> 1130\u001b[1;33m         \u001b[1;32mraise\u001b[0m \u001b[0mTypeError\u001b[0m\u001b[1;33m(\u001b[0m\u001b[1;34m\"Index does not support mutable operations\"\u001b[0m\u001b[1;33m)\u001b[0m\u001b[1;33m\u001b[0m\u001b[0m\n\u001b[0m\u001b[0;32m   1131\u001b[0m \u001b[1;33m\u001b[0m\u001b[0m\n\u001b[0;32m   1132\u001b[0m     \u001b[1;32mdef\u001b[0m \u001b[0m__getitem__\u001b[0m\u001b[1;33m(\u001b[0m\u001b[0mself\u001b[0m\u001b[1;33m,\u001b[0m \u001b[0mkey\u001b[0m\u001b[1;33m)\u001b[0m\u001b[1;33m:\u001b[0m\u001b[1;33m\u001b[0m\u001b[0m\n",
      "\u001b[1;31mTypeError\u001b[0m: Index does not support mutable operations"
     ]
    }
   ],
   "source": [
    "my_index[0] = 'R'\n",
    "\"\"\"Indexes are immutable objects. You cannot change them once assigned which is good\"\"\""
   ]
  },
  {
   "cell_type": "code",
   "execution_count": 12,
   "metadata": {
    "collapsed": true
   },
   "outputs": [],
   "source": [
    "#Starting with reindexing now\n",
    "import numpy as np\n",
    "from pandas import Series, DataFrame\n",
    "import pandas\n",
    "from numpy.random import randn"
   ]
  },
  {
   "cell_type": "code",
   "execution_count": 14,
   "metadata": {
    "collapsed": true
   },
   "outputs": [],
   "source": [
    "ser1 = Series([1,2,3,4],index=['A','B','C','D'])"
   ]
  },
  {
   "cell_type": "code",
   "execution_count": 16,
   "metadata": {
    "collapsed": false
   },
   "outputs": [
    {
     "name": "stdout",
     "output_type": "stream",
     "text": [
      "A     1\n",
      "B     2\n",
      "C     3\n",
      "D     4\n",
      "E   NaN\n",
      "F   NaN\n",
      "dtype: float64\n"
     ]
    }
   ],
   "source": [
    "ser2 = ser1.reindex(['A','B','C','D','E','F']) #reindexed to create a new series ser2 using ser1 values\n",
    "print(ser2) #automatically assigns NaN to indexes that dont have value"
   ]
  },
  {
   "cell_type": "code",
   "execution_count": 21,
   "metadata": {
    "collapsed": false
   },
   "outputs": [
    {
     "data": {
      "text/plain": [
       "A      1\n",
       "B      2\n",
       "C      3\n",
       "D      4\n",
       "E    NaN\n",
       "F    NaN\n",
       "G      @\n",
       "dtype: object"
      ]
     },
     "execution_count": 21,
     "metadata": {},
     "output_type": "execute_result"
    }
   ],
   "source": [
    "ser2.reindex(['A','B','C','D','E','F','G'],fill_value='@')\n",
    "#Assigned a value using fill_value argument of reindex function to values newly added after reindexing.\n",
    "#Note that the 'G' was assigned the fill value, but 'E' and 'F' were not"
   ]
  },
  {
   "cell_type": "code",
   "execution_count": 24,
   "metadata": {
    "collapsed": false
   },
   "outputs": [
    {
     "data": {
      "text/plain": [
       "0        USA\n",
       "5     Canada\n",
       "10    Mexico\n",
       "dtype: object"
      ]
     },
     "execution_count": 24,
     "metadata": {},
     "output_type": "execute_result"
    }
   ],
   "source": [
    "ser3 = Series(['USA','Canada','Mexico'],index=[0,5,10])\n",
    "ser3"
   ]
  },
  {
   "cell_type": "code",
   "execution_count": 30,
   "metadata": {
    "collapsed": false
   },
   "outputs": [
    {
     "data": {
      "text/plain": [
       "0        USA\n",
       "1        NaN\n",
       "2        NaN\n",
       "3        NaN\n",
       "4        NaN\n",
       "5     Canada\n",
       "6        NaN\n",
       "7        NaN\n",
       "8        NaN\n",
       "9        NaN\n",
       "10    Mexico\n",
       "11       NaN\n",
       "12       NaN\n",
       "13       NaN\n",
       "14       NaN\n",
       "dtype: object"
      ]
     },
     "execution_count": 30,
     "metadata": {},
     "output_type": "execute_result"
    }
   ],
   "source": [
    "ser4 = ser3.reindex(range(15))\n",
    "ser4"
   ]
  },
  {
   "cell_type": "code",
   "execution_count": 32,
   "metadata": {
    "collapsed": false
   },
   "outputs": [
    {
     "data": {
      "text/plain": [
       "0        USA\n",
       "1        USA\n",
       "2        USA\n",
       "3        USA\n",
       "4        USA\n",
       "5     Canada\n",
       "6     Canada\n",
       "7     Canada\n",
       "8     Canada\n",
       "9     Canada\n",
       "10    Mexico\n",
       "11    Mexico\n",
       "12    Mexico\n",
       "13    Mexico\n",
       "14    Mexico\n",
       "dtype: object"
      ]
     },
     "execution_count": 32,
     "metadata": {},
     "output_type": "execute_result"
    }
   ],
   "source": [
    "ser5 = ser3.reindex(range(15),method='ffill')\n",
    "\"\"\"ffill is a Python syntax .. argument passed to method function indicates\n",
    "forward filling values from previous index until a new value is found\"\"\"\n",
    "ser5"
   ]
  },
  {
   "cell_type": "code",
   "execution_count": 35,
   "metadata": {
    "collapsed": false
   },
   "outputs": [
    {
     "data": {
      "text/html": [
       "<div>\n",
       "<table border=\"1\" class=\"dataframe\">\n",
       "  <thead>\n",
       "    <tr style=\"text-align: right;\">\n",
       "      <th></th>\n",
       "      <th>0</th>\n",
       "      <th>1</th>\n",
       "      <th>2</th>\n",
       "      <th>3</th>\n",
       "      <th>4</th>\n",
       "    </tr>\n",
       "  </thead>\n",
       "  <tbody>\n",
       "    <tr>\n",
       "      <th>0</th>\n",
       "      <td>0.113065</td>\n",
       "      <td>-0.010421</td>\n",
       "      <td>-1.029097</td>\n",
       "      <td>-0.423592</td>\n",
       "      <td>1.030538</td>\n",
       "    </tr>\n",
       "    <tr>\n",
       "      <th>1</th>\n",
       "      <td>-2.578284</td>\n",
       "      <td>0.299527</td>\n",
       "      <td>-0.347687</td>\n",
       "      <td>0.496474</td>\n",
       "      <td>0.053482</td>\n",
       "    </tr>\n",
       "    <tr>\n",
       "      <th>2</th>\n",
       "      <td>0.097382</td>\n",
       "      <td>0.293407</td>\n",
       "      <td>0.899279</td>\n",
       "      <td>1.575240</td>\n",
       "      <td>0.200763</td>\n",
       "    </tr>\n",
       "    <tr>\n",
       "      <th>3</th>\n",
       "      <td>0.042522</td>\n",
       "      <td>-0.023370</td>\n",
       "      <td>0.797366</td>\n",
       "      <td>0.077045</td>\n",
       "      <td>-0.091932</td>\n",
       "    </tr>\n",
       "    <tr>\n",
       "      <th>4</th>\n",
       "      <td>1.228783</td>\n",
       "      <td>0.013717</td>\n",
       "      <td>1.237945</td>\n",
       "      <td>-1.077797</td>\n",
       "      <td>-0.975137</td>\n",
       "    </tr>\n",
       "  </tbody>\n",
       "</table>\n",
       "</div>"
      ],
      "text/plain": [
       "          0         1         2         3         4\n",
       "0  0.113065 -0.010421 -1.029097 -0.423592  1.030538\n",
       "1 -2.578284  0.299527 -0.347687  0.496474  0.053482\n",
       "2  0.097382  0.293407  0.899279  1.575240  0.200763\n",
       "3  0.042522 -0.023370  0.797366  0.077045 -0.091932\n",
       "4  1.228783  0.013717  1.237945 -1.077797 -0.975137"
      ]
     },
     "execution_count": 35,
     "metadata": {},
     "output_type": "execute_result"
    }
   ],
   "source": [
    "#Index rows, columns\n",
    "dframe = DataFrame(randn(25).reshape(5,5))\n",
    "dframe"
   ]
  },
  {
   "cell_type": "code",
   "execution_count": 41,
   "metadata": {
    "collapsed": false
   },
   "outputs": [
    {
     "data": {
      "text/html": [
       "<div>\n",
       "<table border=\"1\" class=\"dataframe\">\n",
       "  <thead>\n",
       "    <tr style=\"text-align: right;\">\n",
       "      <th></th>\n",
       "      <th>col1</th>\n",
       "      <th>col2</th>\n",
       "      <th>col3</th>\n",
       "      <th>col4</th>\n",
       "      <th>col5</th>\n",
       "    </tr>\n",
       "  </thead>\n",
       "  <tbody>\n",
       "    <tr>\n",
       "      <th>A</th>\n",
       "      <td>-0.695903</td>\n",
       "      <td>-0.891635</td>\n",
       "      <td>2.109680</td>\n",
       "      <td>-0.467505</td>\n",
       "      <td>-2.180400</td>\n",
       "    </tr>\n",
       "    <tr>\n",
       "      <th>B</th>\n",
       "      <td>0.954249</td>\n",
       "      <td>0.272680</td>\n",
       "      <td>-0.242750</td>\n",
       "      <td>-0.941819</td>\n",
       "      <td>1.336799</td>\n",
       "    </tr>\n",
       "    <tr>\n",
       "      <th>D</th>\n",
       "      <td>0.365381</td>\n",
       "      <td>-1.611336</td>\n",
       "      <td>-0.412436</td>\n",
       "      <td>0.088112</td>\n",
       "      <td>0.609880</td>\n",
       "    </tr>\n",
       "    <tr>\n",
       "      <th>E</th>\n",
       "      <td>1.357077</td>\n",
       "      <td>0.878562</td>\n",
       "      <td>1.145253</td>\n",
       "      <td>-1.254244</td>\n",
       "      <td>0.220992</td>\n",
       "    </tr>\n",
       "    <tr>\n",
       "      <th>F</th>\n",
       "      <td>1.783788</td>\n",
       "      <td>-1.117429</td>\n",
       "      <td>-1.381298</td>\n",
       "      <td>0.483876</td>\n",
       "      <td>-0.620898</td>\n",
       "    </tr>\n",
       "  </tbody>\n",
       "</table>\n",
       "</div>"
      ],
      "text/plain": [
       "       col1      col2      col3      col4      col5\n",
       "A -0.695903 -0.891635  2.109680 -0.467505 -2.180400\n",
       "B  0.954249  0.272680 -0.242750 -0.941819  1.336799\n",
       "D  0.365381 -1.611336 -0.412436  0.088112  0.609880\n",
       "E  1.357077  0.878562  1.145253 -1.254244  0.220992\n",
       "F  1.783788 -1.117429 -1.381298  0.483876 -0.620898"
      ]
     },
     "execution_count": 41,
     "metadata": {},
     "output_type": "execute_result"
    }
   ],
   "source": [
    "dframe1 = DataFrame(randn(25).reshape((5,5)),index=['A','B','D','E','F'],\n",
    "                   columns=['col1','col2','col3','col4','col5'])\n",
    "dframe1"
   ]
  },
  {
   "cell_type": "code",
   "execution_count": 45,
   "metadata": {
    "collapsed": false
   },
   "outputs": [
    {
     "data": {
      "text/html": [
       "<div>\n",
       "<table border=\"1\" class=\"dataframe\">\n",
       "  <thead>\n",
       "    <tr style=\"text-align: right;\">\n",
       "      <th></th>\n",
       "      <th>col1</th>\n",
       "      <th>col2</th>\n",
       "      <th>col3</th>\n",
       "      <th>col4</th>\n",
       "      <th>col5</th>\n",
       "    </tr>\n",
       "  </thead>\n",
       "  <tbody>\n",
       "    <tr>\n",
       "      <th>A</th>\n",
       "      <td>-0.695903</td>\n",
       "      <td>-0.891635</td>\n",
       "      <td>2.109680</td>\n",
       "      <td>-0.467505</td>\n",
       "      <td>-2.180400</td>\n",
       "    </tr>\n",
       "    <tr>\n",
       "      <th>B</th>\n",
       "      <td>0.954249</td>\n",
       "      <td>0.272680</td>\n",
       "      <td>-0.242750</td>\n",
       "      <td>-0.941819</td>\n",
       "      <td>1.336799</td>\n",
       "    </tr>\n",
       "    <tr>\n",
       "      <th>C</th>\n",
       "      <td>NaN</td>\n",
       "      <td>NaN</td>\n",
       "      <td>NaN</td>\n",
       "      <td>NaN</td>\n",
       "      <td>NaN</td>\n",
       "    </tr>\n",
       "    <tr>\n",
       "      <th>D</th>\n",
       "      <td>0.365381</td>\n",
       "      <td>-1.611336</td>\n",
       "      <td>-0.412436</td>\n",
       "      <td>0.088112</td>\n",
       "      <td>0.609880</td>\n",
       "    </tr>\n",
       "    <tr>\n",
       "      <th>E</th>\n",
       "      <td>1.357077</td>\n",
       "      <td>0.878562</td>\n",
       "      <td>1.145253</td>\n",
       "      <td>-1.254244</td>\n",
       "      <td>0.220992</td>\n",
       "    </tr>\n",
       "    <tr>\n",
       "      <th>F</th>\n",
       "      <td>1.783788</td>\n",
       "      <td>-1.117429</td>\n",
       "      <td>-1.381298</td>\n",
       "      <td>0.483876</td>\n",
       "      <td>-0.620898</td>\n",
       "    </tr>\n",
       "  </tbody>\n",
       "</table>\n",
       "</div>"
      ],
      "text/plain": [
       "       col1      col2      col3      col4      col5\n",
       "A -0.695903 -0.891635  2.109680 -0.467505 -2.180400\n",
       "B  0.954249  0.272680 -0.242750 -0.941819  1.336799\n",
       "C       NaN       NaN       NaN       NaN       NaN\n",
       "D  0.365381 -1.611336 -0.412436  0.088112  0.609880\n",
       "E  1.357077  0.878562  1.145253 -1.254244  0.220992\n",
       "F  1.783788 -1.117429 -1.381298  0.483876 -0.620898"
      ]
     },
     "execution_count": 45,
     "metadata": {},
     "output_type": "execute_result"
    }
   ],
   "source": [
    "dframe2 = dframe1.reindex(['A','B','C','D','E','F'])\n",
    "dframe2 #For the index 'C' introduced, null values are populated"
   ]
  },
  {
   "cell_type": "markdown",
   "metadata": {},
   "source": []
  },
  {
   "cell_type": "code",
   "execution_count": 48,
   "metadata": {
    "collapsed": false
   },
   "outputs": [
    {
     "data": {
      "text/html": [
       "<div>\n",
       "<table border=\"1\" class=\"dataframe\">\n",
       "  <thead>\n",
       "    <tr style=\"text-align: right;\">\n",
       "      <th></th>\n",
       "      <th>col1</th>\n",
       "      <th>col2</th>\n",
       "      <th>col3</th>\n",
       "      <th>col4</th>\n",
       "      <th>col5</th>\n",
       "      <th>col6</th>\n",
       "    </tr>\n",
       "  </thead>\n",
       "  <tbody>\n",
       "    <tr>\n",
       "      <th>A</th>\n",
       "      <td>-0.695903</td>\n",
       "      <td>-0.891635</td>\n",
       "      <td>2.109680</td>\n",
       "      <td>-0.467505</td>\n",
       "      <td>-2.180400</td>\n",
       "      <td>NaN</td>\n",
       "    </tr>\n",
       "    <tr>\n",
       "      <th>B</th>\n",
       "      <td>0.954249</td>\n",
       "      <td>0.272680</td>\n",
       "      <td>-0.242750</td>\n",
       "      <td>-0.941819</td>\n",
       "      <td>1.336799</td>\n",
       "      <td>NaN</td>\n",
       "    </tr>\n",
       "    <tr>\n",
       "      <th>C</th>\n",
       "      <td>NaN</td>\n",
       "      <td>NaN</td>\n",
       "      <td>NaN</td>\n",
       "      <td>NaN</td>\n",
       "      <td>NaN</td>\n",
       "      <td>NaN</td>\n",
       "    </tr>\n",
       "    <tr>\n",
       "      <th>D</th>\n",
       "      <td>0.365381</td>\n",
       "      <td>-1.611336</td>\n",
       "      <td>-0.412436</td>\n",
       "      <td>0.088112</td>\n",
       "      <td>0.609880</td>\n",
       "      <td>NaN</td>\n",
       "    </tr>\n",
       "    <tr>\n",
       "      <th>E</th>\n",
       "      <td>1.357077</td>\n",
       "      <td>0.878562</td>\n",
       "      <td>1.145253</td>\n",
       "      <td>-1.254244</td>\n",
       "      <td>0.220992</td>\n",
       "      <td>NaN</td>\n",
       "    </tr>\n",
       "    <tr>\n",
       "      <th>F</th>\n",
       "      <td>1.783788</td>\n",
       "      <td>-1.117429</td>\n",
       "      <td>-1.381298</td>\n",
       "      <td>0.483876</td>\n",
       "      <td>-0.620898</td>\n",
       "      <td>NaN</td>\n",
       "    </tr>\n",
       "  </tbody>\n",
       "</table>\n",
       "</div>"
      ],
      "text/plain": [
       "       col1      col2      col3      col4      col5  col6\n",
       "A -0.695903 -0.891635  2.109680 -0.467505 -2.180400   NaN\n",
       "B  0.954249  0.272680 -0.242750 -0.941819  1.336799   NaN\n",
       "C       NaN       NaN       NaN       NaN       NaN   NaN\n",
       "D  0.365381 -1.611336 -0.412436  0.088112  0.609880   NaN\n",
       "E  1.357077  0.878562  1.145253 -1.254244  0.220992   NaN\n",
       "F  1.783788 -1.117429 -1.381298  0.483876 -0.620898   NaN"
      ]
     },
     "execution_count": 48,
     "metadata": {},
     "output_type": "execute_result"
    }
   ],
   "source": [
    "new_columns = (['col1','col2','col3','col4','col5','col6'])\n",
    "dframe3 = dframe2.reindex(columns = new_columns)\n",
    "dframe3"
   ]
  },
  {
   "cell_type": "code",
   "execution_count": 50,
   "metadata": {
    "collapsed": false
   },
   "outputs": [
    {
     "data": {
      "text/html": [
       "<div>\n",
       "<table border=\"1\" class=\"dataframe\">\n",
       "  <thead>\n",
       "    <tr style=\"text-align: right;\">\n",
       "      <th></th>\n",
       "      <th>col1</th>\n",
       "      <th>col2</th>\n",
       "      <th>col3</th>\n",
       "      <th>col4</th>\n",
       "      <th>col5</th>\n",
       "      <th>col6</th>\n",
       "    </tr>\n",
       "  </thead>\n",
       "  <tbody>\n",
       "    <tr>\n",
       "      <th>A</th>\n",
       "      <td>-0.695903</td>\n",
       "      <td>-0.891635</td>\n",
       "      <td>2.109680</td>\n",
       "      <td>-0.467505</td>\n",
       "      <td>-2.180400</td>\n",
       "      <td>NaN</td>\n",
       "    </tr>\n",
       "    <tr>\n",
       "      <th>B</th>\n",
       "      <td>0.954249</td>\n",
       "      <td>0.272680</td>\n",
       "      <td>-0.242750</td>\n",
       "      <td>-0.941819</td>\n",
       "      <td>1.336799</td>\n",
       "      <td>NaN</td>\n",
       "    </tr>\n",
       "    <tr>\n",
       "      <th>C</th>\n",
       "      <td>NaN</td>\n",
       "      <td>NaN</td>\n",
       "      <td>NaN</td>\n",
       "      <td>NaN</td>\n",
       "      <td>NaN</td>\n",
       "      <td>NaN</td>\n",
       "    </tr>\n",
       "    <tr>\n",
       "      <th>D</th>\n",
       "      <td>0.365381</td>\n",
       "      <td>-1.611336</td>\n",
       "      <td>-0.412436</td>\n",
       "      <td>0.088112</td>\n",
       "      <td>0.609880</td>\n",
       "      <td>NaN</td>\n",
       "    </tr>\n",
       "    <tr>\n",
       "      <th>E</th>\n",
       "      <td>1.357077</td>\n",
       "      <td>0.878562</td>\n",
       "      <td>1.145253</td>\n",
       "      <td>-1.254244</td>\n",
       "      <td>0.220992</td>\n",
       "      <td>NaN</td>\n",
       "    </tr>\n",
       "    <tr>\n",
       "      <th>F</th>\n",
       "      <td>1.783788</td>\n",
       "      <td>-1.117429</td>\n",
       "      <td>-1.381298</td>\n",
       "      <td>0.483876</td>\n",
       "      <td>-0.620898</td>\n",
       "      <td>NaN</td>\n",
       "    </tr>\n",
       "  </tbody>\n",
       "</table>\n",
       "</div>"
      ],
      "text/plain": [
       "       col1      col2      col3      col4      col5  col6\n",
       "A -0.695903 -0.891635  2.109680 -0.467505 -2.180400   NaN\n",
       "B  0.954249  0.272680 -0.242750 -0.941819  1.336799   NaN\n",
       "C       NaN       NaN       NaN       NaN       NaN   NaN\n",
       "D  0.365381 -1.611336 -0.412436  0.088112  0.609880   NaN\n",
       "E  1.357077  0.878562  1.145253 -1.254244  0.220992   NaN\n",
       "F  1.783788 -1.117429 -1.381298  0.483876 -0.620898   NaN"
      ]
     },
     "execution_count": 50,
     "metadata": {},
     "output_type": "execute_result"
    }
   ],
   "source": [
    "dframe1.ix[['A','B','C','D','E','F'],new_columns]\n",
    "#Use ix to reindex the same series - above as dframe3 we had created a new one"
   ]
  }
 ],
 "metadata": {
  "kernelspec": {
   "display_name": "Python 2",
   "language": "python",
   "name": "python2"
  },
  "language_info": {
   "codemirror_mode": {
    "name": "ipython",
    "version": 2
   },
   "file_extension": ".py",
   "mimetype": "text/x-python",
   "name": "python",
   "nbconvert_exporter": "python",
   "pygments_lexer": "ipython2",
   "version": "2.7.11"
  }
 },
 "nbformat": 4,
 "nbformat_minor": 0
}
