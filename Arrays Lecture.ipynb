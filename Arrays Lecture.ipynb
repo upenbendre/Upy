{
 "cells": [
  {
   "cell_type": "code",
   "execution_count": 15,
   "metadata": {
    "collapsed": false
   },
   "outputs": [
    {
     "name": "stdout",
     "output_type": "stream",
     "text": [
      "('printing my_array', array([1, 2, 3, 4]))\n",
      "('printing my arrays', array([[ 1,  2,  3,  4],\n",
      "       [11, 22, 33, 44]]))\n",
      "('printing shape of 2 dim numpy array', (2, 4))\n",
      "('data type of this array', dtype('int64'))\n",
      "('Array of zeroes', array([ 0.,  0.,  0.,  0.,  0.]))\n",
      "('Array of ones of required dimension', array([[ 1.,  1.,  1.,  1.,  1.],\n",
      "       [ 1.,  1.,  1.,  1.,  1.],\n",
      "       [ 1.,  1.,  1.,  1.,  1.],\n",
      "       [ 1.,  1.,  1.,  1.,  1.],\n",
      "       [ 1.,  1.,  1.,  1.,  1.]]))\n",
      "('Array of 5 numbers simple', array([0, 1, 2, 3, 4]))\n",
      "('Array of 5 to 50 at steps of 2', array([ 5,  7,  9, 11, 13, 15, 17, 19, 21, 23, 25, 27, 29, 31, 33, 35, 37,\n",
      "       39, 41, 43, 45, 47, 49]))\n"
     ]
    }
   ],
   "source": [
    "import numpy as np\n",
    "my_list1 = [1,2,3,4]\n",
    "my_list2 = [11,22,33,44]\n",
    "my_array = np.array(my_list1)\n",
    "print(\"printing my_array\",my_array)\n",
    "my_lists = [my_list1, my_list2]\n",
    "my_arrays = np.array(my_lists)\n",
    "print(\"printing my arrays\", my_arrays)\n",
    "print(\"printing shape of 2 dim numpy array\",my_arrays.shape)\n",
    "print(\"data type of this array\", my_arrays.dtype)\n",
    "print(\"Array of zeroes\", np.zeros(5))\n",
    "print(\"Array of ones of required dimension\", np.ones([5,5]))\n",
    "\n",
    "\n",
    "print(\"Array of 5 numbers simple\", np.arange(5))\n",
    "\n",
    "\n",
    "print(\"Array of 5 to 50 at steps of 2\", np.arange(5,50,2))"
   ]
  },
  {
   "cell_type": "code",
   "execution_count": 19,
   "metadata": {
    "collapsed": false
   },
   "outputs": [
    {
     "data": {
      "text/plain": [
       "(2.5, 2)"
      ]
     },
     "execution_count": 19,
     "metadata": {},
     "output_type": "execute_result"
    }
   ],
   "source": [
    "5.0/2, 5/2 #because its python 2"
   ]
  },
  {
   "cell_type": "code",
   "execution_count": 20,
   "metadata": {
    "collapsed": false
   },
   "outputs": [
    {
     "data": {
      "text/plain": [
       "2.5"
      ]
     },
     "execution_count": 20,
     "metadata": {},
     "output_type": "execute_result"
    }
   ],
   "source": [
    "from __future__ import division\n",
    "5/2"
   ]
  },
  {
   "cell_type": "code",
   "execution_count": 22,
   "metadata": {
    "collapsed": false
   },
   "outputs": [
    {
     "data": {
      "text/plain": [
       "array([[  1,   4,   9,  16],\n",
       "       [ 64,  81, 100, 121]])"
      ]
     },
     "execution_count": 22,
     "metadata": {},
     "output_type": "execute_result"
    }
   ],
   "source": [
    "arr1 = np.array([[1,2,3,4],[8,9,10,11]])\n",
    "arr1*arr1"
   ]
  },
  {
   "cell_type": "code",
   "execution_count": 23,
   "metadata": {
    "collapsed": false
   },
   "outputs": [
    {
     "data": {
      "text/plain": [
       "array([[0, 0, 0, 0],\n",
       "       [0, 0, 0, 0]])"
      ]
     },
     "execution_count": 23,
     "metadata": {},
     "output_type": "execute_result"
    }
   ],
   "source": [
    "arr1 - arr1"
   ]
  },
  {
   "cell_type": "code",
   "execution_count": 24,
   "metadata": {
    "collapsed": false
   },
   "outputs": [
    {
     "data": {
      "text/plain": [
       "array([[ 1.        ,  0.5       ,  0.33333333,  0.25      ],\n",
       "       [ 0.125     ,  0.11111111,  0.1       ,  0.09090909]])"
      ]
     },
     "execution_count": 24,
     "metadata": {},
     "output_type": "execute_result"
    }
   ],
   "source": [
    "1/arr1 # 1 divided by each element in the array"
   ]
  },
  {
   "cell_type": "code",
   "execution_count": 25,
   "metadata": {
    "collapsed": false
   },
   "outputs": [
    {
     "data": {
      "text/plain": [
       "array([[   1,    8,   27,   64],\n",
       "       [ 512,  729, 1000, 1331]])"
      ]
     },
     "execution_count": 25,
     "metadata": {},
     "output_type": "execute_result"
    }
   ],
   "source": [
    "arr1 ** 3 # exponential operation"
   ]
  },
  {
   "cell_type": "code",
   "execution_count": null,
   "metadata": {
    "collapsed": true
   },
   "outputs": [],
   "source": []
  }
 ],
 "metadata": {
  "kernelspec": {
   "display_name": "Python 2",
   "language": "python",
   "name": "python2"
  },
  "language_info": {
   "codemirror_mode": {
    "name": "ipython",
    "version": 2
   },
   "file_extension": ".py",
   "mimetype": "text/x-python",
   "name": "python",
   "nbconvert_exporter": "python",
   "pygments_lexer": "ipython2",
   "version": "2.7.11"
  }
 },
 "nbformat": 4,
 "nbformat_minor": 0
}
